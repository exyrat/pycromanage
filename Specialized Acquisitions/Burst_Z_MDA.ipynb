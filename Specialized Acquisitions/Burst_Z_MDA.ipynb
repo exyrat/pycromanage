{
 "cells": [
  {
   "cell_type": "markdown",
   "id": "f0f585e7",
   "metadata": {},
   "source": [
    "### Code for generating an acquisition series in pycromanager that takes a 'burst' and a z-stack in 2 channels a number of times\n",
    "\n",
    "It is important to first set up the micromanager config properly! Although the only real important part for this code is knowing what channel group you have and what your channels are\n",
    "\n",
    "see more: https://pycro-manager.readthedocs.io/en/latest/user_guide.html "
   ]
  },
  {
   "cell_type": "code",
   "execution_count": 26,
   "id": "66eb5acd",
   "metadata": {},
   "outputs": [
    {
     "name": "stdout",
     "output_type": "stream",
     "text": [
      "<pycromanager.zmq_bridge.bridge.mmcorej_CMMCore object at 0x0000024473811840>\n"
     ]
    }
   ],
   "source": [
    "from pycromanager import Acquisition, Core, JavaObject\n",
    "import numpy as np\n",
    "\n",
    "core = Core()\n",
    "print(core) # this just makes sure you're connected to micromanager"
   ]
  },
  {
   "cell_type": "markdown",
   "id": "c2a709ed",
   "metadata": {},
   "source": [
    "### Load position list from file\n",
    "Save position list from uManager and load into pycromanager (set 'fp')"
   ]
  },
  {
   "cell_type": "code",
   "execution_count": 63,
   "id": "43e693a9",
   "metadata": {},
   "outputs": [
    {
     "data": {
      "text/plain": [
       "[[1.5, 1.5, 2],\n",
       " [1.5, -49.695, 4],\n",
       " [-49.695, 1.5, 4],\n",
       " [-49.695, 103.89, 4],\n",
       " [-152.085, 103.89, 11]]"
      ]
     },
     "execution_count": 63,
     "metadata": {},
     "output_type": "execute_result"
    }
   ],
   "source": [
    "fp = 'C:\\\\Users\\\\ar138\\\\Desktop\\\\Research\\\\Codes\\\\pycromanage\\\\test_pos.pos'\n",
    "\n",
    "positionList = JavaObject('org.micromanager.PositionList')\n",
    "\n",
    "positionList.load(fp)\n",
    "nb_positions = positionList.get_number_of_positions()\n",
    "position_list = []\n",
    "for i in range(nb_positions):\n",
    "    position = positionList.get_position(i)\n",
    "    x = position.get_x()\n",
    "    y = position.get_y()\n",
    "    z = position.get_z()\n",
    "    pos = [x, y, z]\n",
    "    position_list.append(pos)\n",
    "display(position_list)"
   ]
  },
  {
   "cell_type": "markdown",
   "id": "4544a596",
   "metadata": {},
   "source": [
    "### Set acquisition settings\n",
    "Define the parameters for the imaging session"
   ]
  },
  {
   "cell_type": "code",
   "execution_count": 64,
   "id": "fae64dd9",
   "metadata": {},
   "outputs": [],
   "source": [
    "\n",
    "num_f = 10        # number of frames per 'burst'\n",
    "exp1 = 20         # exposure time (ms) of the z-stack frames\n",
    "exp2 = 20         # exposure time (ms) of the burst frames\n",
    "sub_interval = 10 # interval between subsets (sec)\n",
    "num_subs = 10     # number of times to repeat\n",
    "z_hrange = 2.5    # +/- in um from relative z\n",
    "z_interval = 0.5  # z-stack step size (um)\n",
    "\n",
    "chgroup = 'Channel' # Name of the channel group in MicroManager\n",
    "ch1 = 'FITC'        # Channel for the z-stack\n",
    "ch2 = 'DAPI'        # Channel for the burst"
   ]
  },
  {
   "cell_type": "markdown",
   "id": "cfcc6248",
   "metadata": {},
   "source": [
    "### Generate the event series\n",
    "Loops over subsets, positions to generate burst & z-stack at each\n",
    "\n",
    "Creates a list 'events' to give to the acquisition manager"
   ]
  },
  {
   "cell_type": "code",
   "execution_count": 69,
   "id": "68866fb0",
   "metadata": {},
   "outputs": [
    {
     "name": "stdout",
     "output_type": "stream",
     "text": [
      "First event:  {'axes': {'subset': 0, 'time': 0, 'channel': 'DAPI', 'z': 0, 'p': 0}, 'config_group': ['Channel', 'DAPI'], 'min_start_time': 0, 'exposure': 20, 'z': 2, 'x': 1.5, 'y': 1.5}\n",
      "Last event:  {'axes': {'subset': 9, 'time': 10, 'channel': 'FITC', 'z': 9, 'p': 4}, 'config_group': ['Channel', 'FITC'], 'min_start_time': 90, 'exposure': 20, 'z': 13.0, 'x': 1.5, 'y': 1.5}\n"
     ]
    }
   ],
   "source": [
    "\n",
    "events = []\n",
    "for sub in range(num_subs):\n",
    "    \n",
    "    for pos_ind, [x,y,z] in enumerate(position_list):\n",
    "        \n",
    "        for frame in range(num_f):\n",
    "            \n",
    "            evt = {\n",
    "                    'axes': {'subset': sub, 'time': frame, 'channel': ch2, 'z':0, 'p':pos_ind}, \n",
    "                    'config_group': [chgroup, ch2], \n",
    "                    'min_start_time' : sub * sub_interval,\n",
    "                    'exposure': exp2,\n",
    "                    'z' : z,\n",
    "                    'x':x,\n",
    "                    'y':x,\n",
    "            }\n",
    "            \n",
    "            events.append(evt)\n",
    "        \n",
    "        for z_ind,z_pos in enumerate(np.arange(start=-z_hrange, stop=z_hrange, step=z_interval)):\n",
    "            \n",
    "            evt = {\n",
    "                    'axes': {'subset': sub, 'time': num_f, 'channel': ch1, 'z':z_ind, 'p':pos_ind}, \n",
    "                    'config_group': [chgroup, ch1], \n",
    "                    'min_start_time' : sub * sub_interval,\n",
    "                    'exposure': exp1,\n",
    "                    'z': z+z_pos,\n",
    "                    'x':xy,\n",
    "                    'y':xy,\n",
    "            }\n",
    "            events.append(evt)\n",
    "\n",
    "            \n",
    "print('First event: ', events[0])   # take a look at your first & last event\n",
    "print('Last event: ',events[-1])"
   ]
  },
  {
   "cell_type": "markdown",
   "id": "f2a4a05a",
   "metadata": {},
   "source": [
    "### Acquire"
   ]
  },
  {
   "cell_type": "code",
   "execution_count": 4,
   "id": "08fe16da",
   "metadata": {},
   "outputs": [],
   "source": [
    "# Take the acquisition\n",
    "\n",
    "with Acquisition(directory='Downloads', name='test_aq') as acq:\n",
    "    \n",
    "    acq.acquire(events)"
   ]
  }
 ],
 "metadata": {
  "kernelspec": {
   "display_name": "Python 3 (ipykernel)",
   "language": "python",
   "name": "python3"
  },
  "language_info": {
   "codemirror_mode": {
    "name": "ipython",
    "version": 3
   },
   "file_extension": ".py",
   "mimetype": "text/x-python",
   "name": "python",
   "nbconvert_exporter": "python",
   "pygments_lexer": "ipython3",
   "version": "3.10.10"
  }
 },
 "nbformat": 4,
 "nbformat_minor": 5
}
