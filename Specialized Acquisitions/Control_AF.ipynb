{
 "cells": [
  {
   "cell_type": "markdown",
   "id": "f0929eae-1ade-40a5-a1a6-187c2b962664",
   "metadata": {},
   "source": [
    "### Code for generating an acquisition series that sets the autofocus (AF) device ON between z-stacks\n",
    "\n",
    "It is important to first set up the micromanager config properly! Although the only real important part for this code is knowing what channel group you have and what your channels are\n",
    "\n",
    "see more: https://pycro-manager.readthedocs.io/en/latest/user_guide.html "
   ]
  },
  {
   "cell_type": "code",
   "execution_count": 32,
   "id": "f3c87b25-35fe-40db-abfa-2df3368430f0",
   "metadata": {},
   "outputs": [
    {
     "name": "stdout",
     "output_type": "stream",
     "text": [
      "<pyjavaz.bridge.mmcorej_CMMCore object at 0x0000021F186988F0>\n"
     ]
    }
   ],
   "source": [
    "from pycromanager import Acquisition, Core, JavaObject\n",
    "import numpy as np\n",
    "\n",
    "core = Core()\n",
    "print(core) # this just makes sure you're connected to micromanager"
   ]
  },
  {
   "cell_type": "code",
   "execution_count": 40,
   "id": "771c1295-f484-41f3-a123-19d75f70ed0f",
   "metadata": {},
   "outputs": [],
   "source": [
    "afd = core.get_auto_focus_device()\n",
    "afm = core.get_auto_focus_offset()"
   ]
  },
  {
   "cell_type": "code",
   "execution_count": 41,
   "id": "78c59d15-a19d-4527-9cb2-bbd369ca1ede",
   "metadata": {},
   "outputs": [
    {
     "name": "stdout",
     "output_type": "stream",
     "text": [
      "4.4e-323\n"
     ]
    }
   ],
   "source": [
    "print(afm)"
   ]
  },
  {
   "cell_type": "code",
   "execution_count": 42,
   "id": "afaa0328-81d7-48b8-ba6c-b898da72aeab",
   "metadata": {},
   "outputs": [
    {
     "name": "stdout",
     "output_type": "stream",
     "text": [
      "False\n"
     ]
    }
   ],
   "source": [
    "core.enable_continuous_focus(False)\n",
    "print(core.is_continuous_focus_enabled())"
   ]
  },
  {
   "cell_type": "code",
   "execution_count": null,
   "id": "c3a6668b-beb2-4272-9ca8-488194d3e725",
   "metadata": {},
   "outputs": [],
   "source": []
  },
  {
   "cell_type": "markdown",
   "id": "9fa1b5b3-48e1-4e7c-8326-7f60a4f28be6",
   "metadata": {},
   "source": [
    "### Load position list from file\n",
    "Save position list from uManager and load into pycromanager (set 'fp')"
   ]
  },
  {
   "cell_type": "code",
   "execution_count": 33,
   "id": "43e693a9",
   "metadata": {},
   "outputs": [
    {
     "data": {
      "text/plain": [
       "[[1.5, 1.5, 2],\n",
       " [1.5, -49.695, 4],\n",
       " [-49.695, 1.5, 4],\n",
       " [-49.695, 103.89, 4],\n",
       " [-152.085, 103.89, 11]]"
      ]
     },
     "metadata": {},
     "output_type": "display_data"
    }
   ],
   "source": [
    "fp = 'C:\\\\Users\\\\ar138\\\\Desktop\\\\Research\\\\Codes\\\\pycromanage\\\\test_pos.pos'\n",
    "\n",
    "positionList = JavaObject('org.micromanager.PositionList')\n",
    "\n",
    "positionList.load(fp)\n",
    "nb_positions = positionList.get_number_of_positions()\n",
    "position_list = []\n",
    "for i in range(nb_positions):\n",
    "    position = positionList.get_position(i)\n",
    "    x = position.get_x()\n",
    "    y = position.get_y()\n",
    "    z = position.get_z()\n",
    "    pos = [x, y, z]\n",
    "    position_list.append(pos)\n",
    "display(position_list)"
   ]
  },
  {
   "cell_type": "markdown",
   "id": "a8cb349f-fe4e-4517-be45-814db8a75a3a",
   "metadata": {},
   "source": [
    "### Set acquisition settings\n",
    "Define the parameters for the imaging session"
   ]
  },
  {
   "cell_type": "code",
   "execution_count": 34,
   "id": "fae64dd9",
   "metadata": {},
   "outputs": [],
   "source": [
    "\n",
    "num_f = 10        # number of frames per 'burst'\n",
    "exp1 = 20         # exposure time (ms) of the z-stack frames\n",
    "exp2 = 20         # exposure time (ms) of the burst frames\n",
    "sub_interval = 10 # interval between subsets (sec)\n",
    "num_subs = 3     # number of times to repeat\n",
    "z_hrange = 2.5    # +/- in um from relative z\n",
    "z_interval = 0.5  # z-stack step size (um)\n",
    "\n",
    "chgroup = 'Channel' # Name of the channel group in MicroManager\n",
    "ch1 = 'FITC'        # Channel for the z-stack\n",
    "ch2 = 'DAPI'        # Channel for the burst"
   ]
  },
  {
   "cell_type": "code",
   "execution_count": 88,
   "id": "72944457-b870-4280-9c86-3d8e30557d05",
   "metadata": {},
   "outputs": [
    {
     "data": {
      "text/plain": [
       "array([-2.5, -2. , -1.5, -1. , -0.5,  0. ,  0.5,  1. ,  1.5,  2. ])"
      ]
     },
     "execution_count": 88,
     "metadata": {},
     "output_type": "execute_result"
    }
   ],
   "source": [
    "np.arange(start=-z_hrange, stop=z_hrange, step=z_interval)"
   ]
  },
  {
   "cell_type": "markdown",
   "id": "3de9aa72-f101-441b-862a-f7744df2b915",
   "metadata": {},
   "source": [
    "### Generate the event series\n",
    "Loops over subsets, positions to generate burst & z-stack at each\n",
    "\n",
    "Creates a list 'events' to give to the acquisition manager"
   ]
  },
  {
   "cell_type": "code",
   "execution_count": 31,
   "id": "ba175f5d-0db5-4bbf-bf6d-5d73811d6710",
   "metadata": {},
   "outputs": [],
   "source": [
    "def post_hook_fn(event):\n",
    "    #print(len(event))\n",
    "    if (len(event)) != 10:\n",
    "        axs = event['axes']\n",
    "        if (axs['channel'] == 'FITC') and (axs['z'] == 10 ) and (axs['p'] == 4 ):\n",
    "            core.enable_continuous_focus(True)\n",
    "            print('AF turned on')\n",
    "    \n",
    "    return event"
   ]
  },
  {
   "cell_type": "code",
   "execution_count": 35,
   "id": "f12be2a8-c73c-413c-8612-97da41c458f3",
   "metadata": {},
   "outputs": [],
   "source": [
    "def pre_hook_fn(event):\n",
    "    if core.is_continuous_focus_enabled():\n",
    "        core.enable_continuous_focus(False)\n",
    "    return event"
   ]
  },
  {
   "cell_type": "code",
   "execution_count": 36,
   "id": "68866fb0",
   "metadata": {},
   "outputs": [
    {
     "name": "stdout",
     "output_type": "stream",
     "text": [
      "First event:  {'axes': {'subset': 0, 'time': 0, 'channel': 'DAPI', 'z': 5, 'p': 0}, 'config_group': ['Channel', 'DAPI'], 'min_start_time': 0, 'exposure': 20, 'z': 2, 'x': 1.5, 'y': 1.5}\n",
      "Last event:  {'axes': {'subset': 2, 'time': 10, 'channel': 'FITC', 'z': 10, 'p': 4}, 'config_group': ['Channel', 'FITC'], 'min_start_time': 20, 'exposure': 20, 'z': 13.5, 'x': -152.085, 'y': -152.085}\n"
     ]
    }
   ],
   "source": [
    "\n",
    "events = []\n",
    "for sub in range(num_subs):\n",
    "    \n",
    "    for pos_ind, [x,y,z] in enumerate(position_list):\n",
    "        \n",
    "        for frame in range(num_f):\n",
    "            \n",
    "            evt = {\n",
    "                    'axes': {'subset': sub, 'time': frame, 'channel': ch2, 'z':5, 'p':pos_ind}, \n",
    "                    'config_group': [chgroup, ch2], \n",
    "                    'min_start_time' : sub * sub_interval,\n",
    "                    'exposure': exp2,\n",
    "                    'z' : z,\n",
    "                    'x':x,\n",
    "                    'y':x,\n",
    "            }\n",
    "            \n",
    "            events.append(evt)\n",
    "        \n",
    "        for z_ind,z_pos in enumerate(np.arange(start=-z_hrange, stop=z_hrange+z_interval, step=z_interval)):\n",
    "            \n",
    "            evt = {\n",
    "                    'axes': {'subset': sub, 'time': num_f, 'channel': ch1, 'z':z_ind, 'p':pos_ind}, \n",
    "                    'config_group': [chgroup, ch1], \n",
    "                    'min_start_time' : sub * sub_interval,\n",
    "                    'exposure': exp1,\n",
    "                    'z': z+z_pos,\n",
    "                    'x':x,\n",
    "                    'y':x,\n",
    "            }\n",
    "            events.append(evt)\n",
    "\n",
    "            \n",
    "print('First event: ', events[0])   # take a look at your first & last event\n",
    "print('Last event: ',events[-1])"
   ]
  },
  {
   "cell_type": "code",
   "execution_count": 51,
   "id": "49fa13ad-461d-47ef-a125-4588b20c40d8",
   "metadata": {},
   "outputs": [
    {
     "data": {
      "text/plain": [
       "0"
      ]
     },
     "execution_count": 51,
     "metadata": {},
     "output_type": "execute_result"
    }
   ],
   "source": [
    "event = events[0]\n",
    "event['axes']['subset']"
   ]
  },
  {
   "cell_type": "markdown",
   "id": "2475a2c8-ba31-4488-9cca-0d42d2e0ce1d",
   "metadata": {},
   "source": [
    "### Acquire"
   ]
  },
  {
   "cell_type": "code",
   "execution_count": 37,
   "id": "08fe16da",
   "metadata": {},
   "outputs": [
    {
     "name": "stdout",
     "output_type": "stream",
     "text": [
      "AF turned on\n",
      "AF turned on\n",
      "AF turned on\n"
     ]
    }
   ],
   "source": [
    "# Take the acquisition\n",
    "\n",
    "with Acquisition(directory='Downloads', name='test_aq_AF_dataset2',post_hardware_hook_fn=post_hook_fn, pre_hardware_hook_fn = pre_hook_fn) as acq:\n",
    "    \n",
    "    acq.acquire(events)\n",
    "\n",
    "    dataset = acq.get_dataset()"
   ]
  },
  {
   "cell_type": "code",
   "execution_count": 38,
   "id": "2a0f1914-73ea-45a5-aa81-91a9b3941cae",
   "metadata": {},
   "outputs": [
    {
     "name": "stdout",
     "output_type": "stream",
     "text": [
      "Dataset opened                 \n"
     ]
    }
   ],
   "source": [
    "from pycromanager import Dataset\n",
    "\n",
    "#This path is to the top level of the dataset\n",
    "data_path = 'Downloads/test_aq_AF_dataset2_1'\n",
    "\n",
    "dataset = Dataset(data_path)"
   ]
  },
  {
   "cell_type": "code",
   "execution_count": 39,
   "id": "f2794a75-30e6-40f3-94ca-7636a4eb8ab6",
   "metadata": {},
   "outputs": [
    {
     "data": {
      "text/plain": [
       "{'time': SortedSet([0, 1, 2, 3, 4, 5, 6, 7, 8, 9, 10]),\n",
       " 'channel': SortedSet(['DAPI', 'FITC']),\n",
       " 'subset': SortedSet([0, 1, 2]),\n",
       " 'p': SortedSet([0, 1, 2, 3, 4]),\n",
       " 'z': SortedSet([0, 1, 2, 3, 4, 5, 6, 7, 8, 9, 10])}"
      ]
     },
     "execution_count": 39,
     "metadata": {},
     "output_type": "execute_result"
    }
   ],
   "source": [
    "dataset.axes"
   ]
  },
  {
   "cell_type": "code",
   "execution_count": 112,
   "id": "dcf8742f-49b9-4a10-88e1-5f3c3ac6e39a",
   "metadata": {},
   "outputs": [
    {
     "data": {
      "text/plain": [
       "(512, 512)"
      ]
     },
     "execution_count": 112,
     "metadata": {},
     "output_type": "execute_result"
    }
   ],
   "source": [
    "img = dataset.read_image(channel = 'DAPI', z = 5, time = 0, p = 0, subset = 0)\n",
    "img.shape"
   ]
  },
  {
   "cell_type": "code",
   "execution_count": 41,
   "id": "997e8c5d-b36e-4e18-877f-84435b9749a6",
   "metadata": {},
   "outputs": [
    {
     "name": "stdout",
     "output_type": "stream",
     "text": [
      "(11, 2, 3, 5, 11, 512, 512)\n",
      "(time, channel, subset, pos, z, x, y)\n"
     ]
    }
   ],
   "source": [
    "dask_array = dataset.as_array()\n",
    "print(dask_array.shape)\n",
    "print('(time, channel, subset, pos, z, x, y)')"
   ]
  },
  {
   "cell_type": "code",
   "execution_count": 44,
   "id": "65be45f8-3abb-43aa-827e-afa4e72a0ce9",
   "metadata": {},
   "outputs": [
    {
     "data": {
      "text/plain": [
       "(9, 3, 512, 512)"
      ]
     },
     "execution_count": 44,
     "metadata": {},
     "output_type": "execute_result"
    }
   ],
   "source": [
    "DAPI1 = dask_array[0:9,0,:,0,5]\n",
    "DAPI1.shape"
   ]
  },
  {
   "cell_type": "code",
   "execution_count": 42,
   "id": "25acdbde-d540-4873-a70a-8f1bff28ac27",
   "metadata": {},
   "outputs": [
    {
     "data": {
      "text/plain": [
       "(3, 11, 512, 512)"
      ]
     },
     "execution_count": 42,
     "metadata": {},
     "output_type": "execute_result"
    }
   ],
   "source": [
    "FITC1 = dask_array[10,1,:,0,:]\n",
    "FITC1.shape"
   ]
  },
  {
   "cell_type": "code",
   "execution_count": null,
   "id": "2e59e8f0-c4b7-485b-9d87-ae6a649ef64a",
   "metadata": {},
   "outputs": [],
   "source": []
  },
  {
   "cell_type": "code",
   "execution_count": 45,
   "id": "d6a083b3-b0cf-4420-bef3-e6faac162791",
   "metadata": {},
   "outputs": [],
   "source": [
    "import tifffile\n",
    "tifffile.imwrite('DAPI_p1.tiff', DAPI1, imagej=True, metadata={'axes': 'TZYX'})"
   ]
  },
  {
   "cell_type": "code",
   "execution_count": 28,
   "id": "c7df9e79-0e43-4116-887a-e5ee231dc67a",
   "metadata": {},
   "outputs": [
    {
     "data": {
      "text/plain": [
       "<matplotlib.image.AxesImage at 0x21f178ed460>"
      ]
     },
     "execution_count": 28,
     "metadata": {},
     "output_type": "execute_result"
    },
    {
     "data": {
      "image/png": "[encoded data removed]",
      "text/plain": [
       "<Figure size 640x480 with 1 Axes>"
      ]
     },
     "metadata": {},
     "output_type": "display_data"
    }
   ],
   "source": [
    "import matplotlib.pyplot as plt\n",
    "import logging\n",
    "logging.getLogger('matplotlib.font_manager').disabled = True\n",
    "plt.imshow(FITC1)"
   ]
  },
  {
   "cell_type": "code",
   "execution_count": null,
   "id": "aa4485f7-2eb3-45af-91e2-d2c7fb62fadf",
   "metadata": {},
   "outputs": [],
   "source": []
  }
 ],
 "metadata": {
  "kernelspec": {
   "display_name": "Python 3 (ipykernel)",
   "language": "python",
   "name": "python3"
  },
  "language_info": {
   "codemirror_mode": {
    "name": "ipython",
    "version": 3
   },
   "file_extension": ".py",
   "mimetype": "text/x-python",
   "name": "python",
   "nbconvert_exporter": "python",
   "pygments_lexer": "ipython3",
   "version": "3.12.3"
  }
 },
 "nbformat": 4,
 "nbformat_minor": 5
}
